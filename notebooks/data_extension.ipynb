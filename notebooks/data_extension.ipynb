{
 "cells": [
  {
   "cell_type": "code",
   "execution_count": 1,
   "id": "385e56d1",
   "metadata": {},
   "outputs": [
    {
     "name": "stdout",
     "output_type": "stream",
     "text": [
      "Requirement already satisfied: prophet in c:\\users\\asus\\anaconda3\\lib\\site-packages (1.1.7)\n",
      "Requirement already satisfied: cmdstanpy>=1.0.4 in c:\\users\\asus\\anaconda3\\lib\\site-packages (from prophet) (1.2.5)\n",
      "Requirement already satisfied: numpy>=1.15.4 in c:\\users\\asus\\anaconda3\\lib\\site-packages (from prophet) (1.26.4)\n",
      "Requirement already satisfied: matplotlib>=2.0.0 in c:\\users\\asus\\anaconda3\\lib\\site-packages (from prophet) (3.9.2)\n",
      "Requirement already satisfied: pandas>=1.0.4 in c:\\users\\asus\\anaconda3\\lib\\site-packages (from prophet) (2.2.2)\n",
      "Requirement already satisfied: holidays<1,>=0.25 in c:\\users\\asus\\anaconda3\\lib\\site-packages (from prophet) (0.74)\n",
      "Requirement already satisfied: tqdm>=4.36.1 in c:\\users\\asus\\anaconda3\\lib\\site-packages (from prophet) (4.66.5)\n",
      "Requirement already satisfied: importlib_resources in c:\\users\\asus\\anaconda3\\lib\\site-packages (from prophet) (6.5.2)\n",
      "Requirement already satisfied: stanio<2.0.0,>=0.4.0 in c:\\users\\asus\\anaconda3\\lib\\site-packages (from cmdstanpy>=1.0.4->prophet) (0.5.1)\n",
      "Requirement already satisfied: python-dateutil in c:\\users\\asus\\anaconda3\\lib\\site-packages (from holidays<1,>=0.25->prophet) (2.9.0.post0)\n",
      "Requirement already satisfied: contourpy>=1.0.1 in c:\\users\\asus\\anaconda3\\lib\\site-packages (from matplotlib>=2.0.0->prophet) (1.2.0)\n",
      "Requirement already satisfied: cycler>=0.10 in c:\\users\\asus\\anaconda3\\lib\\site-packages (from matplotlib>=2.0.0->prophet) (0.11.0)\n",
      "Requirement already satisfied: fonttools>=4.22.0 in c:\\users\\asus\\anaconda3\\lib\\site-packages (from matplotlib>=2.0.0->prophet) (4.51.0)\n",
      "Requirement already satisfied: kiwisolver>=1.3.1 in c:\\users\\asus\\anaconda3\\lib\\site-packages (from matplotlib>=2.0.0->prophet) (1.4.4)\n",
      "Requirement already satisfied: packaging>=20.0 in c:\\users\\asus\\anaconda3\\lib\\site-packages (from matplotlib>=2.0.0->prophet) (24.1)\n",
      "Requirement already satisfied: pillow>=8 in c:\\users\\asus\\anaconda3\\lib\\site-packages (from matplotlib>=2.0.0->prophet) (10.4.0)\n",
      "Requirement already satisfied: pyparsing>=2.3.1 in c:\\users\\asus\\anaconda3\\lib\\site-packages (from matplotlib>=2.0.0->prophet) (3.1.2)\n",
      "Requirement already satisfied: pytz>=2020.1 in c:\\users\\asus\\anaconda3\\lib\\site-packages (from pandas>=1.0.4->prophet) (2024.1)\n",
      "Requirement already satisfied: tzdata>=2022.7 in c:\\users\\asus\\anaconda3\\lib\\site-packages (from pandas>=1.0.4->prophet) (2023.3)\n",
      "Requirement already satisfied: colorama in c:\\users\\asus\\anaconda3\\lib\\site-packages (from tqdm>=4.36.1->prophet) (0.4.6)\n",
      "Requirement already satisfied: six>=1.5 in c:\\users\\asus\\anaconda3\\lib\\site-packages (from python-dateutil->holidays<1,>=0.25->prophet) (1.16.0)\n"
     ]
    }
   ],
   "source": [
    "!pip install prophet\n",
    "\n"
   ]
  },
  {
   "cell_type": "code",
   "execution_count": 2,
   "id": "0e605e33",
   "metadata": {},
   "outputs": [
    {
     "data": {
      "text/html": [
       "<div>\n",
       "<style scoped>\n",
       "    .dataframe tbody tr th:only-of-type {\n",
       "        vertical-align: middle;\n",
       "    }\n",
       "\n",
       "    .dataframe tbody tr th {\n",
       "        vertical-align: top;\n",
       "    }\n",
       "\n",
       "    .dataframe thead th {\n",
       "        text-align: right;\n",
       "    }\n",
       "</style>\n",
       "<table border=\"1\" class=\"dataframe\">\n",
       "  <thead>\n",
       "    <tr style=\"text-align: right;\">\n",
       "      <th></th>\n",
       "      <th>Crop</th>\n",
       "      <th>State</th>\n",
       "      <th>Crop_Year</th>\n",
       "      <th>Production</th>\n",
       "    </tr>\n",
       "  </thead>\n",
       "  <tbody>\n",
       "    <tr>\n",
       "      <th>0</th>\n",
       "      <td>Arecanut</td>\n",
       "      <td>Andaman and Nicobar Island</td>\n",
       "      <td>2000</td>\n",
       "      <td>7200.0</td>\n",
       "    </tr>\n",
       "    <tr>\n",
       "      <th>1</th>\n",
       "      <td>Arecanut</td>\n",
       "      <td>Andaman and Nicobar Island</td>\n",
       "      <td>2001</td>\n",
       "      <td>7300.0</td>\n",
       "    </tr>\n",
       "    <tr>\n",
       "      <th>2</th>\n",
       "      <td>Arecanut</td>\n",
       "      <td>Andaman and Nicobar Island</td>\n",
       "      <td>2002</td>\n",
       "      <td>7350.0</td>\n",
       "    </tr>\n",
       "    <tr>\n",
       "      <th>3</th>\n",
       "      <td>Arecanut</td>\n",
       "      <td>Andaman and Nicobar Island</td>\n",
       "      <td>2003</td>\n",
       "      <td>6707.0</td>\n",
       "    </tr>\n",
       "    <tr>\n",
       "      <th>4</th>\n",
       "      <td>Arecanut</td>\n",
       "      <td>Andaman and Nicobar Island</td>\n",
       "      <td>2004</td>\n",
       "      <td>4781.0</td>\n",
       "    </tr>\n",
       "  </tbody>\n",
       "</table>\n",
       "</div>"
      ],
      "text/plain": [
       "       Crop                       State  Crop_Year  Production\n",
       "0  Arecanut  Andaman and Nicobar Island       2000      7200.0\n",
       "1  Arecanut  Andaman and Nicobar Island       2001      7300.0\n",
       "2  Arecanut  Andaman and Nicobar Island       2002      7350.0\n",
       "3  Arecanut  Andaman and Nicobar Island       2003      6707.0\n",
       "4  Arecanut  Andaman and Nicobar Island       2004      4781.0"
      ]
     },
     "execution_count": 2,
     "metadata": {},
     "output_type": "execute_result"
    }
   ],
   "source": [
    "import pandas as pd\n",
    "\n",
    "# Load the cleaned dataset\n",
    "df = pd.read_csv(\"../data/processed/region_wise_crop_production.csv\")  # or whatever name you saved\n",
    "df.head()\n"
   ]
  },
  {
   "cell_type": "code",
   "execution_count": 4,
   "id": "a3ef6273",
   "metadata": {},
   "outputs": [],
   "source": [
    "import numpy as np\n",
    "\n",
    "# Define years to add\n",
    "future_years = [2021, 2022, 2023, 2024, 2025]\n",
    "\n",
    "# Get unique crops and states\n",
    "crops = df['Crop'].unique()\n",
    "states = df['State'].unique()\n",
    "\n",
    "# Container for new rows\n",
    "future_data = []\n",
    "\n",
    "# Generate rows by extending last known data\n",
    "for crop in crops:\n",
    "    for state in states:\n",
    "        crop_state_data = df[(df[\"Crop\"] == crop) & (df[\"State\"] == state)]\n",
    "        if crop_state_data.empty:\n",
    "            continue\n",
    "\n",
    "        # Get last known year and production\n",
    "        last_row = crop_state_data.sort_values(by=\"Crop_Year\").iloc[-1]\n",
    "        base_production = last_row[\"Production\"]\n",
    "        base_year = last_row[\"Crop_Year\"]\n",
    "\n",
    "        for year in future_years:\n",
    "            growth_rate = np.random.uniform(0.98, 1.05)  # simulate small annual growth or decline\n",
    "            base_production *= growth_rate\n",
    "\n",
    "            future_data.append({\n",
    "                \"Crop\": crop,\n",
    "                \"State\": state,\n",
    "                \"Crop_Year\": year,\n",
    "                \"Production\": round(base_production, 2)\n",
    "            })\n",
    "\n",
    "# Create DataFrame\n",
    "df_future = pd.DataFrame(future_data)\n",
    "\n",
    "# Combine with original data\n",
    "df_extended = pd.concat([df, df_future], ignore_index=True)\n",
    "df_extended = df_extended.sort_values(by=[\"Crop\", \"State\", \"Crop_Year\"])\n"
   ]
  },
  {
   "cell_type": "code",
   "execution_count": 5,
   "id": "c06e432f",
   "metadata": {},
   "outputs": [
    {
     "name": "stdout",
     "output_type": "stream",
     "text": [
      "✅ Extended dataset saved at: data/processed/crop_production_extended.csv\n"
     ]
    }
   ],
   "source": [
    "\n",
    "# Save extended data\n",
    "df_extended.to_csv(\"../data/processed/crop_production_extended.csv\", index=False)\n",
    "print(\"✅ Extended dataset saved at: data/processed/crop_production_extended.csv\")\n"
   ]
  },
  {
   "cell_type": "code",
   "execution_count": 7,
   "id": "0da89475",
   "metadata": {},
   "outputs": [],
   "source": [
    "df = pd.read_csv(\"../data/processed/crop_production_extended.csv\")\n"
   ]
  }
 ],
 "metadata": {
  "kernelspec": {
   "display_name": "base",
   "language": "python",
   "name": "python3"
  },
  "language_info": {
   "codemirror_mode": {
    "name": "ipython",
    "version": 3
   },
   "file_extension": ".py",
   "mimetype": "text/x-python",
   "name": "python",
   "nbconvert_exporter": "python",
   "pygments_lexer": "ipython3",
   "version": "3.12.7"
  }
 },
 "nbformat": 4,
 "nbformat_minor": 5
}
