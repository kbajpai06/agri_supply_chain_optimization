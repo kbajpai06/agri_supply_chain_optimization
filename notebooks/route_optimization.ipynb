{
 "cells": [
  {
   "cell_type": "code",
   "execution_count": 1,
   "id": "5a84f552",
   "metadata": {},
   "outputs": [
    {
     "name": "stdout",
     "output_type": "stream",
     "text": [
      "Collecting openrouteservice\n",
      "  Downloading openrouteservice-2.3.3-py3-none-any.whl.metadata (9.2 kB)\n",
      "Requirement already satisfied: pandas in c:\\users\\asus\\anaconda3\\lib\\site-packages (2.2.2)\n",
      "Requirement already satisfied: networkx in c:\\users\\asus\\anaconda3\\lib\\site-packages (3.3)\n",
      "Collecting folium\n",
      "  Downloading folium-0.19.7-py2.py3-none-any.whl.metadata (4.1 kB)\n",
      "Requirement already satisfied: requests>=2.0 in c:\\users\\asus\\anaconda3\\lib\\site-packages (from openrouteservice) (2.32.3)\n",
      "Requirement already satisfied: numpy>=1.26.0 in c:\\users\\asus\\anaconda3\\lib\\site-packages (from pandas) (1.26.4)\n",
      "Requirement already satisfied: python-dateutil>=2.8.2 in c:\\users\\asus\\anaconda3\\lib\\site-packages (from pandas) (2.9.0.post0)\n",
      "Requirement already satisfied: pytz>=2020.1 in c:\\users\\asus\\anaconda3\\lib\\site-packages (from pandas) (2024.1)\n",
      "Requirement already satisfied: tzdata>=2022.7 in c:\\users\\asus\\anaconda3\\lib\\site-packages (from pandas) (2023.3)\n",
      "Collecting branca>=0.6.0 (from folium)\n",
      "  Downloading branca-0.8.1-py3-none-any.whl.metadata (1.5 kB)\n",
      "Requirement already satisfied: jinja2>=2.9 in c:\\users\\asus\\anaconda3\\lib\\site-packages (from folium) (3.1.4)\n",
      "Requirement already satisfied: xyzservices in c:\\users\\asus\\anaconda3\\lib\\site-packages (from folium) (2022.9.0)\n",
      "Requirement already satisfied: MarkupSafe>=2.0 in c:\\users\\asus\\anaconda3\\lib\\site-packages (from jinja2>=2.9->folium) (2.1.3)\n",
      "Requirement already satisfied: six>=1.5 in c:\\users\\asus\\anaconda3\\lib\\site-packages (from python-dateutil>=2.8.2->pandas) (1.16.0)\n",
      "Requirement already satisfied: charset-normalizer<4,>=2 in c:\\users\\asus\\anaconda3\\lib\\site-packages (from requests>=2.0->openrouteservice) (3.3.2)\n",
      "Requirement already satisfied: idna<4,>=2.5 in c:\\users\\asus\\anaconda3\\lib\\site-packages (from requests>=2.0->openrouteservice) (3.7)\n",
      "Requirement already satisfied: urllib3<3,>=1.21.1 in c:\\users\\asus\\anaconda3\\lib\\site-packages (from requests>=2.0->openrouteservice) (2.2.3)\n",
      "Requirement already satisfied: certifi>=2017.4.17 in c:\\users\\asus\\anaconda3\\lib\\site-packages (from requests>=2.0->openrouteservice) (2024.12.14)\n",
      "Downloading openrouteservice-2.3.3-py3-none-any.whl (33 kB)\n",
      "Downloading folium-0.19.7-py2.py3-none-any.whl (112 kB)\n",
      "Downloading branca-0.8.1-py3-none-any.whl (26 kB)\n",
      "Installing collected packages: openrouteservice, branca, folium\n",
      "Successfully installed branca-0.8.1 folium-0.19.7 openrouteservice-2.3.3\n"
     ]
    }
   ],
   "source": [
    "!pip install openrouteservice pandas networkx folium\n"
   ]
  },
  {
   "cell_type": "code",
   "execution_count": 2,
   "id": "9f76f290",
   "metadata": {},
   "outputs": [],
   "source": [
    "locations = {\n",
    "    \"Farm_Punjab\": [75.8573, 30.9000],        # Ludhiana\n",
    "    \"Farm_Haryana\": [76.9905, 28.4595],       # Gurugram\n",
    "    \"Farm_UP\": [80.9462, 26.8467],            # Lucknow\n",
    "    \"Warehouse_Punjab\": [75.3433, 31.3260],   # Jalandhar\n",
    "    \"Warehouse_Haryana\": [76.3869, 30.7333],  # Ambala\n",
    "    \"Retailer_Delhi\": [77.1025, 28.7041],     # Delhi\n",
    "    \"Retailer_UP\": [78.0322, 27.1767],        # Agra\n",
    "    \"Retailer_Punjab\": [75.7885, 31.6340]     # Amritsar\n",
    "}\n"
   ]
  },
  {
   "cell_type": "code",
   "execution_count": 4,
   "id": "51c4634b",
   "metadata": {},
   "outputs": [
    {
     "name": "stdout",
     "output_type": "stream",
     "text": [
      "Distance Matrix (km):\n",
      "                   Farm_Punjab  Farm_Haryana  Farm_UP  Warehouse_Punjab  \\\n",
      "Farm_Punjab               0.00        365.15   784.54             88.56   \n",
      "Farm_Haryana            356.88          0.00   474.42            445.83   \n",
      "Farm_UP                 789.87        480.43     0.00            878.82   \n",
      "Warehouse_Punjab         88.86        454.13   873.52              0.00   \n",
      "Warehouse_Haryana        61.10        321.09   740.47            150.05   \n",
      "Retailer_Delhi          339.44         34.17   496.68            428.39   \n",
      "Retailer_UP             548.27        203.20   327.83            637.22   \n",
      "Retailer_Punjab          98.74        464.01   883.39             81.23   \n",
      "\n",
      "                   Warehouse_Haryana  Retailer_Delhi  Retailer_UP  \\\n",
      "Farm_Punjab                    61.11          344.70       549.69   \n",
      "Farm_Haryana                  312.88           35.06       201.97   \n",
      "Farm_UP                       745.87          500.44       327.08   \n",
      "Warehouse_Punjab              150.09          433.68       638.68   \n",
      "Warehouse_Haryana               0.00          300.64       505.63   \n",
      "Retailer_Delhi                295.45            0.00       231.12   \n",
      "Retailer_UP                   504.28          233.36         0.00   \n",
      "Retailer_Punjab               140.13          443.55       648.55   \n",
      "\n",
      "                   Retailer_Punjab  \n",
      "Farm_Punjab                  99.75  \n",
      "Farm_Haryana                457.02  \n",
      "Farm_UP                     890.01  \n",
      "Warehouse_Punjab             81.24  \n",
      "Warehouse_Haryana           140.08  \n",
      "Retailer_Delhi              439.59  \n",
      "Retailer_UP                 648.42  \n",
      "Retailer_Punjab               0.00  \n"
     ]
    }
   ],
   "source": [
    "import openrouteservice\n",
    "import pandas as pd\n",
    "import networkx as nx\n",
    "\n",
    "# Initialize ORS client\n",
    "client = openrouteservice.Client( key= '5b3ce3597851110001cf6248c499806c1caa4c3f9b1a288cc319b000')  # Replace with your API key\n",
    "\n",
    "# Convert to list of coordinates\n",
    "coords = list(locations.values())\n",
    "names = list(locations.keys())\n",
    "\n",
    "# Request distance & time matrix\n",
    "matrix = client.distance_matrix(\n",
    "    locations=coords,\n",
    "    metrics=[\"distance\", \"duration\"],\n",
    "    resolve_locations=True,\n",
    "    units=\"km\"\n",
    ")\n",
    "\n",
    "# Build DataFrame for visualization\n",
    "dist_df = pd.DataFrame(matrix['distances'], index=names, columns=names)\n",
    "time_df = pd.DataFrame(matrix['durations'], index=names, columns=names)\n",
    "\n",
    "print(\"Distance Matrix (km):\")\n",
    "print(dist_df.round(2))\n"
   ]
  },
  {
   "cell_type": "code",
   "execution_count": 5,
   "id": "2c0d687b",
   "metadata": {},
   "outputs": [],
   "source": [
    "# Build Graph using NetworkX\n",
    "G = nx.DiGraph()\n",
    "\n",
    "for i, source in enumerate(names):\n",
    "    for j, target in enumerate(names):\n",
    "        if i != j:\n",
    "            G.add_edge(source, target,\n",
    "                       distance=dist_df.loc[source, target],\n",
    "                       time=time_df.loc[source, target])\n"
   ]
  },
  {
   "cell_type": "code",
   "execution_count": 6,
   "id": "d31d47d1",
   "metadata": {},
   "outputs": [
    {
     "name": "stdout",
     "output_type": "stream",
     "text": [
      "Shortest Path (by Distance): ['Farm_Punjab', 'Retailer_UP']\n",
      "Total Distance: 549.69 km\n"
     ]
    }
   ],
   "source": [
    "# Shortest path from Farm_Punjab to Retailer_UP based on distance\n",
    "shortest_path = nx.shortest_path(G, source=\"Farm_Punjab\", target=\"Retailer_UP\", weight=\"distance\")\n",
    "total_dist = nx.shortest_path_length(G, source=\"Farm_Punjab\", target=\"Retailer_UP\", weight=\"distance\")\n",
    "\n",
    "print(\"Shortest Path (by Distance):\", shortest_path)\n",
    "print(\"Total Distance:\", total_dist, \"km\")\n"
   ]
  },
  {
   "cell_type": "code",
   "execution_count": 7,
   "id": "d9994b74",
   "metadata": {},
   "outputs": [],
   "source": [
    "import folium\n",
    "\n",
    "# Initialize Map\n",
    "m = folium.Map(location=[29.0, 77.0], zoom_start=6)\n",
    "\n",
    "# Add markers\n",
    "for name, coord in locations.items():\n",
    "    folium.Marker(location=coord[::-1], popup=name).add_to(m)\n",
    "\n",
    "# Draw shortest path\n",
    "path_coords = [locations[loc] for loc in shortest_path]\n",
    "folium.PolyLine(locations=[(lat, lon) for lon, lat in path_coords], color=\"blue\", weight=4).add_to(m)\n",
    "\n",
    "# Show map\n",
    "m.save(\"route_map.html\")\n"
   ]
  }
 ],
 "metadata": {
  "kernelspec": {
   "display_name": "base",
   "language": "python",
   "name": "python3"
  },
  "language_info": {
   "codemirror_mode": {
    "name": "ipython",
    "version": 3
   },
   "file_extension": ".py",
   "mimetype": "text/x-python",
   "name": "python",
   "nbconvert_exporter": "python",
   "pygments_lexer": "ipython3",
   "version": "3.12.7"
  }
 },
 "nbformat": 4,
 "nbformat_minor": 5
}
