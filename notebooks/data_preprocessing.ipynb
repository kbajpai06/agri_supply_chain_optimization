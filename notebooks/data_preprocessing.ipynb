{
 "cells": [
  {
   "cell_type": "code",
   "execution_count": 16,
   "id": "dab672fe",
   "metadata": {},
   "outputs": [
    {
     "name": "stdout",
     "output_type": "stream",
     "text": [
      "✅ inventory_dataset.csv has been updated and saved in the 'data/processed' folder.\n",
      "📉 MAE: 558.20\n",
      "📈 R² Score: 0.95\n",
      "Predicted Inventory Requirement: 6773.547099999999\n"
     ]
    },
    {
     "data": {
      "text/plain": [
       "['../models/inventory_predictor.pkl']"
      ]
     },
     "execution_count": 16,
     "metadata": {},
     "output_type": "execute_result"
    }
   ],
   "source": [
    "import pandas as pd\n",
    "import numpy as np\n",
    "import os\n",
    "from sklearn.model_selection import train_test_split\n",
    "from sklearn.ensemble import RandomForestRegressor\n",
    "from sklearn.metrics import mean_absolute_error, r2_score\n",
    "import joblib\n",
    "\n",
    "# Set random seed for reproducibility\n",
    "np.random.seed(42)\n",
    "\n",
    "# Define years, states, and crops (updated to include 2024 and 2025)\n",
    "years = list(range(2000, 2029))\n",
    "states = [\"Punjab\", \"Haryana\", \"Uttar Pradesh\"]\n",
    "crops = [\"Wheat\", \"Rice\", \"Maize\", \"Sugarcane\", \"Cotton\", \"Barley\", \"Gram\", \"Soybean\"]\n",
    "\n",
    "# Generate synthetic data\n",
    "data = []\n",
    "for state in states:\n",
    "    for crop in crops:\n",
    "        last_inventory = np.random.randint(500, 5000)\n",
    "        avg_storage = np.random.randint(2000, 10000)\n",
    "        for year in years:\n",
    "            production = np.random.uniform(1000, 10000)\n",
    "            forecast_demand = production * np.random.uniform(0.8, 1.2)\n",
    "            inventory_required = forecast_demand + np.random.uniform(-1000, 1000)\n",
    "            data.append({\n",
    "                \"Crop\": crop,\n",
    "                \"State\": state,\n",
    "                \"Year\": year,\n",
    "                \"Forecasted_Demand\": round(forecast_demand, 2),\n",
    "                \"Last_Year_Inventory\": round(last_inventory, 2),\n",
    "                \"Avg_Storage_Capacity\": avg_storage,\n",
    "                \"Inventory_Required\": round(inventory_required, 2)\n",
    "            })\n",
    "            last_inventory = production  # Update for next year\n",
    "\n",
    "# Create DataFrame\n",
    "inventory_df = pd.DataFrame(data)\n",
    "\n",
    "# Save to CSV\n",
    "os.makedirs(\"../data/processed\", exist_ok=True)\n",
    "inventory_df.to_csv(\"../data/processed/inventory_dataset.csv\", index=False)\n",
    "\n",
    "print(\"✅ inventory_dataset.csv has been updated and saved in the 'data/processed' folder.\")\n",
    "\n",
    "# Load the dataset for training\n",
    "df = pd.read_csv(\"../data/processed/inventory_dataset.csv\")\n",
    "\n",
    "# One-hot encode categorical variables\n",
    "df_encoded = pd.get_dummies(df, columns=[\"Crop\", \"State\"])\n",
    "X = df_encoded.drop(columns=[\"Inventory_Required\"])\n",
    "y = df_encoded[\"Inventory_Required\"]\n",
    "\n",
    "# Train-test split\n",
    "X_train, X_test, y_train, y_test = train_test_split(X, y, test_size=0.2, random_state=42)\n",
    "\n",
    "# Train the model\n",
    "model = RandomForestRegressor(n_estimators=100, random_state=42)\n",
    "model.fit(X_train, y_train)\n",
    "\n",
    "# Predict and evaluate\n",
    "y_pred = model.predict(X_test)\n",
    "mae = mean_absolute_error(y_test, y_pred)\n",
    "r2 = r2_score(y_test, y_pred)\n",
    "\n",
    "print(f\"📉 MAE: {mae:.2f}\")\n",
    "print(f\"📈 R² Score: {r2:.2f}\")\n",
    "\n",
    "# Example prediction\n",
    "new_input = X_test.iloc[0:1]\n",
    "predicted_inventory = model.predict(new_input)\n",
    "print(\"Predicted Inventory Requirement:\", predicted_inventory[0])\n",
    "\n",
    "# Save the model\n",
    "os.makedirs(\"../models\", exist_ok=True)\n",
    "joblib.dump(model, \"../models/inventory_predictor.pkl\")\n"
   ]
  }
 ],
 "metadata": {
  "kernelspec": {
   "display_name": "base",
   "language": "python",
   "name": "python3"
  },
  "language_info": {
   "codemirror_mode": {
    "name": "ipython",
    "version": 3
   },
   "file_extension": ".py",
   "mimetype": "text/x-python",
   "name": "python",
   "nbconvert_exporter": "python",
   "pygments_lexer": "ipython3",
   "version": "3.12.7"
  }
 },
 "nbformat": 4,
 "nbformat_minor": 5
}
